{
 "cells": [
  {
   "cell_type": "code",
   "execution_count": 94,
   "metadata": {},
   "outputs": [
    {
     "data": {
      "image/png": "[encoded data removed]",
      "text/plain": [
       "<Figure size 432x288 with 5 Axes>"
      ]
     },
     "metadata": {
      "needs_background": "light"
     },
     "output_type": "display_data"
    }
   ],
   "source": [
    "import numpy as np\n",
    "import matplotlib.pyplot as plt\n",
    "\n",
    "def sigmoid(x):\n",
    "    return 1 / (1 + np.exp(-x))\n",
    "\n",
    "def ReLU(x):\n",
    "    return np.maximum(0, x)\n",
    "\n",
    "def tanh(x):\n",
    "    return np.tanh(x)\n",
    "    \n",
    "input_data = np.random.randn(1000, 100)  # 1000개의 데이터, 표준정규분포로 1000행 100열 행렬생성\n",
    "node_num = 100  # 각 은닉층의 노드(뉴런) 수\n",
    "hidden_layer_size = 5  # 은닉층이 5개\n",
    "activations = {}  # 이곳에 활성화 결과를 저장\n",
    "\n",
    "x = input_data\n",
    "\n",
    "for i in range(hidden_layer_size):\n",
    "    if i != 0:\n",
    "        x = activations[i-1]\n",
    "\n",
    "#     w = np.random.randn(node_num, node_num)     # 1. 표준 정규 분포\n",
    "#     w = np.random.randn(node_num, node_num) * 0.01    # 2. 표준편차 0.01\n",
    "    w = np.random.randn(node_num, node_num) * np.sqrt(2.0 / (node_num+node_num))   # 3. Xavier\n",
    "#     w = np.random.randn(node_num, node_num) * np.sqrt(2.0 / node_num)   # 4. He\n",
    "    \n",
    "    a = np.dot(x, w)\n",
    "    \n",
    "    z = sigmoid(a)\n",
    "#     z = ReLU(a)\n",
    "#     z = tanh(a)\n",
    "\n",
    "    activations[i] = z\n",
    "\n",
    "# 히스토그램 그리기\n",
    "fig, ax = plt.subplots(1, len(activations), sharey=True)\n",
    "for i, a in activations.items():\n",
    "#     plt.ylim(0, 5000)\n",
    "    ax[i].hist(a.flatten(), 30, range=(0,1))\n",
    "    ax[i].set_title(str(i+1)+\"-layer\")\n",
    "plt.show()"
   ]
  },
  {
   "cell_type": "code",
   "execution_count": null,
   "metadata": {},
   "outputs": [],
   "source": []
  }
 ],
 "metadata": {
  "kernelspec": {
   "display_name": "Python 3",
   "language": "python",
   "name": "python3"
  },
  "language_info": {
   "codemirror_mode": {
    "name": "ipython",
    "version": 3
   },
   "file_extension": ".py",
   "mimetype": "text/x-python",
   "name": "python",
   "nbconvert_exporter": "python",
   "pygments_lexer": "ipython3",
   "version": "3.7.3"
  }
 },
 "nbformat": 4,
 "nbformat_minor": 2
}
